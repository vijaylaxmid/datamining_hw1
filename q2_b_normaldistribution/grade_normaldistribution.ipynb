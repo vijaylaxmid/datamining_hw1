{
 "cells": [
  {
   "cell_type": "code",
   "execution_count": 1,
   "metadata": {},
   "outputs": [],
   "source": [
    "arr = [47, 63, 71, 39, 47, 49, 43, 37, 81, 69, 38, 13, 29, 61, 49, 53, 57, 23, 58, 17, 73, 33, 29]\n",
    "\n",
    "def mean(data):\n",
    "    \"\"\"return arithmetic mean of data\"\"\"\n",
    "    n = len(data)\n",
    "    if n < 1:\n",
    "        raise ValueError('invalid input one data point needed')\n",
    "    return sum(data)/n\n",
    "\n",
    "\n",
    "def stddev(data):\n",
    "    def _myss(data):\n",
    "        c = mean(data)\n",
    "        ss = sum((x-c)**2 for x in data)\n",
    "        return ss\n",
    "    \"\"\"return standard deviation\"\"\"\n",
    "    n = len(data)\n",
    "    if n < 2:\n",
    "        raise ValueError('invalid input: require atleast two data values')\n",
    "    myss = _myss(data)\n",
    "    value = myss/(n-1)\n",
    "    return value**0.5"
   ]
  },
  {
   "cell_type": "code",
   "execution_count": 2,
   "metadata": {},
   "outputs": [],
   "source": [
    "def calculate_grades(data):\n",
    "    _mean = float(mean(data))\n",
    "    _stddev = float(stddev(data)/3)\n",
    "    \n",
    "    def assign_letter_grade(score): \n",
    "        if score >= (_mean-_stddev) and score < _mean: return \"B-\"\n",
    "        elif score >= (_mean) and score < (_mean+_stddev): return \"B\"\n",
    "        elif score >= (_mean+_stddev) and score < (_mean+(2*_stddev)): return \"B+\"\n",
    "        elif score >= (_mean+(2*_stddev)) and score < (_mean+(3*_stddev)): return \"A-\"\n",
    "        elif score >= (_mean+(3*_stddev)) and score < (_mean+(4*_stddev)): return \"A\"\n",
    "        elif score >= (_mean+(4*_stddev)): return \"A+\"\n",
    "        elif score >= (_mean-(2*_stddev)) and score < (_mean-_stddev): return \"C+\"\n",
    "        elif score >= (_mean-(3*_stddev)) and score < (_mean-(2*_stddev)): return \"C\"\n",
    "        elif score >= (_mean-(4*_stddev)) and score < (_mean-(3*_stddev)): return \"C-\"\n",
    "        elif score >= (_mean-(5*_stddev)) and score < (_mean-(4*_stddev)): return \"D+\"\n",
    "        elif score >= (_mean-(6*_stddev)) and score < (_mean-(5*_stddev)): return \"D\"\n",
    "        elif score >= (_mean-(7*_stddev)) and score < (_mean-(6*_stddev)): return \"D-\"\n",
    "        else : return \"F\"    \n",
    "    for grade in data:\n",
    "        print(grade, assign_letter_grade(grade))                "
   ]
  },
  {
   "cell_type": "code",
   "execution_count": 3,
   "metadata": {},
   "outputs": [
    {
     "name": "stdout",
     "output_type": "stream",
     "text": [
      "47 B\n",
      "63 A-\n",
      "71 A\n",
      "39 C+\n",
      "47 B\n",
      "49 B\n",
      "43 B-\n",
      "37 C+\n",
      "81 A+\n",
      "69 A\n",
      "38 C+\n",
      "13 D\n",
      "29 C\n",
      "61 A-\n",
      "49 B\n",
      "53 B\n",
      "57 B+\n",
      "23 C-\n",
      "58 B+\n",
      "17 D+\n",
      "73 A+\n",
      "33 C\n",
      "29 C\n"
     ]
    }
   ],
   "source": [
    "calculate_grades(arr)"
   ]
  },
  {
   "cell_type": "code",
   "execution_count": null,
   "metadata": {},
   "outputs": [],
   "source": []
  },
  {
   "cell_type": "code",
   "execution_count": null,
   "metadata": {},
   "outputs": [],
   "source": []
  }
 ],
 "metadata": {
  "kernelspec": {
   "display_name": "Python 3",
   "language": "python",
   "name": "python3"
  },
  "language_info": {
   "codemirror_mode": {
    "name": "ipython",
    "version": 3
   },
   "file_extension": ".py",
   "mimetype": "text/x-python",
   "name": "python",
   "nbconvert_exporter": "python",
   "pygments_lexer": "ipython3",
   "version": "3.7.3"
  }
 },
 "nbformat": 4,
 "nbformat_minor": 2
}
